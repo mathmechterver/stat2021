{
 "cells": [
  {
   "cell_type": "markdown",
   "metadata": {},
   "source": [
    "# Критерии согласия Колмогорова и Хи-квадрат для сравнения распределений без параметров"
   ]
  },
  {
   "cell_type": "markdown",
   "metadata": {},
   "source": [
    "## Критерий $\\chi^2$ (гистограммы)\n",
    "\n",
    "Разобьем множество значений $\\xi$ на отрезки $\\bigtriangleup_1, \\ldots, \\bigtriangleup_r$,\n",
    "где $\\bigtriangleup_i = (a_{i-1}, a_i], i = 1, \\ldots, r$\n",
    "\n",
    "$p_i = P\\{\\xi \\in \\bigtriangleup_i|H_0\\} = F_0(a_i) - F_0(a_{i-1})$\n",
    "\n",
    "$n_i = num\\{X_j\\in \\bigtriangleup_i\\}$"
   ]
  },
  {
   "cell_type": "markdown",
   "metadata": {},
   "source": [
    "### Статистика критерия\n",
    "\n",
    "$\\chi^2(X_{[n]}) = \\sum_{i=1}^{r}\\frac{n_i}{p_i}(\\frac{n_i}{n} - p_i) = \\sum_{i=1}^{r}\\frac{n_i- p_in}{np_i}$\n",
    "\n",
    "### Теорема Пирсона \n",
    "\n",
    "Если $H_0$ верна, тогда \n",
    "\n",
    "$$\\chi^2(X_{[n]}) \\xrightarrow[n \\to \\infty]{d} \\chi^2(r-1)$$"
   ]
  },
  {
   "cell_type": "markdown",
   "metadata": {},
   "source": [
    "### Критическая область и p-value\n",
    "\n",
    "$V_k = \\{\\chi^2(X_{[n]}) > \\chi^2_{1-\\alpha}(r-1)\\}$\n",
    "\n",
    "$p-value = 1 - F_{\\chi^2}(\\chi^2(X_{[n]}))$"
   ]
  },
  {
   "cell_type": "markdown",
   "metadata": {},
   "source": [
    "# На паре"
   ]
  },
  {
   "cell_type": "markdown",
   "metadata": {},
   "source": [
    "1. [ref](https://stepik.org/lesson/26280/step/6?unit=8173)\n",
    "\n",
    "Дана следующая выборка \n",
    "\n",
    "|  $i$ |  0   |  1   | 2  | 3  | 4 | 5 | $\\leq$ 6 |\n",
    "|------|------|------|----|----|---|---|----------|\n",
    "|$n_i$ |  70  |  78  | 34 | 13 | 4 | 1 |  0       |\n",
    "\n",
    "Проверить гипотезу, что $\\xi \\sim Pois(1)$"
   ]
  },
  {
   "cell_type": "code",
   "execution_count": null,
   "metadata": {},
   "outputs": [],
   "source": []
  },
  {
   "cell_type": "markdown",
   "metadata": {},
   "source": [
    "# Дома"
   ]
  },
  {
   "cell_type": "markdown",
   "metadata": {},
   "source": [
    "1. [ref](https://stepik.org/lesson/26280/step/4?unit=8173)\n",
    "Исследователь Василий по выборке\n",
    "\n",
    "0.29 0.01 0.50 0.21 0.65 0.34 0.75 0.07 0.07 0.25 1.26 0.11 0.22 0.95 0.63 0.93 0.73 0.37 0.80 1.10\n",
    "\n",
    "проверяет гипотезу об экспоненциальном законе распределения с параметром $\\lambda=2$ генеральной совокупности. \n",
    "\n",
    "* Найдите  вероятность попадания генеральной совокупности в интервал $(0.2, 0.5]$  при условии, что верна нулевая гипотеза.\n",
    "\n",
    "* Сделайте разбивку на 3 области\n",
    "\n",
    "* Чему равен квантиль распределения статистики критерия, участвующий в построении критической области, если уровень значимости равен 0.01?\n",
    "\n",
    "* Найдите выборочное значение статистики критерия примите статистическое решение. Уровень значимости 0.01"
   ]
  }
 ],
 "metadata": {
  "kernelspec": {
   "display_name": "Python 3",
   "language": "python",
   "name": "python3"
  },
  "language_info": {
   "codemirror_mode": {
    "name": "ipython",
    "version": 3
   },
   "file_extension": ".py",
   "mimetype": "text/x-python",
   "name": "python",
   "nbconvert_exporter": "python",
   "pygments_lexer": "ipython3",
   "version": "3.8.5"
  }
 },
 "nbformat": 4,
 "nbformat_minor": 4
}
