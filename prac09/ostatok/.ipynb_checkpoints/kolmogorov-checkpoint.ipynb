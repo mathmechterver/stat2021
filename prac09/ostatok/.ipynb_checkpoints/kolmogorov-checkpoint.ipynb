{
 "cells": [
  {
   "cell_type": "markdown",
   "metadata": {},
   "source": [
    "## Критерий Колмогорова (эмпирическая функция распределения)\n",
    "\n",
    "Пусть $F_0(x)$ непрерывна на $\\mathbb{R}$\n",
    "\n",
    "Статистика Колмогорова $D_{n}(X_{[n]}) = sup_{x\\in \\mathbb{R}}|F^*_n(x) - F_0(x)|$\n",
    "\n",
    "Если верна $H_0$, то $D_n(X_{[n]}) \\xrightarrow[n \\to \\infty]{п.н.} 0$\n",
    "\n",
    "Если верна $H_1$, то $D_n(X_{[n]}) \\xrightarrow[n \\to \\infty]{п.н.} sup_{x\\in \\mathbb{R}}|G(x) - F_0(x)| > 0$"
   ]
  }
 ],
 "metadata": {
  "kernelspec": {
   "display_name": "Python 3",
   "language": "python",
   "name": "python3"
  },
  "language_info": {
   "codemirror_mode": {
    "name": "ipython",
    "version": 3
   },
   "file_extension": ".py",
   "mimetype": "text/x-python",
   "name": "python",
   "nbconvert_exporter": "python",
   "pygments_lexer": "ipython3",
   "version": "3.8.5"
  }
 },
 "nbformat": 4,
 "nbformat_minor": 4
}
