{
 "cells": [
  {
   "cell_type": "markdown",
   "metadata": {},
   "source": [
    "Ошибка первого рода - отклонить гипотезу $H_0$, когда она верна\n",
    "$$\\alpha = P(\\{Z \\in V_k|H_0\\})$$\n",
    "\n",
    "Ошибка второго рода - принять гипотезу $H_0$, когда верна $H_1$\n",
    "$$\\beta = P(\\{Z \\in V/V_k|H_1\\})$$\n",
    "\n",
    "Мощность критерия \n",
    "$\\gamma = 1 - \\beta = P(\\{Z \\in V_k|H_1\\})$\n",
    "\n",
    "Критерий несмещенный, если $\\gamma > \\alpha$\n",
    "\n",
    "| result\\real |      $H_0$  |  $H_1$   |\n",
    "|-------------|:-----------:|---------:|\n",
    "| $H_0$         | $1-\\alpha$  |  $\\beta$ |\n",
    "| $H_1$         | $\\alpha$    |$1-\\beta$ |"
   ]
  },
  {
   "cell_type": "markdown",
   "metadata": {},
   "source": [
    "### гипотеза о разности"
   ]
  },
  {
   "cell_type": "markdown",
   "metadata": {},
   "source": [
    "[ref](https://stepik.org/lesson/26463/step/14?unit=8346) У 28 пациентов, имевших сердечный приступ, измерили уровень холестерина в крови через 2 и через 4 дня после сердечного приступа. Изменился ли уровень холестерина при втором измерении по сравнению с первым?\n",
    "\n",
    "Найдите квантиль распределения статистики критерия порядка 0.9.\n",
    "\n",
    "Данные (уровень холестерина приведен в условных единицах).\n",
    "\n",
    "Найдите p-значение и примите статистическое решение при уровне значимости 0.05"
   ]
  },
  {
   "cell_type": "markdown",
   "metadata": {},
   "source": [
    "# Пример:\n",
    "\n",
    "Пусть есть $\\xi \\sim \\mathcal{N}(\\mu, \\sigma)$. $\\sigma$ - знаем, $\\mu$ - нет.\n",
    "\n",
    "$H_0 : m = m_0$\n",
    "\n",
    "$H_1 : m = m_1 > m_0$\n",
    "\n",
    "$X_{[n]}$\n",
    "\n",
    "$Z = \\overline{X}$\n",
    "\n",
    "\n",
    "$H_0 : \\overline{X} \\sim \\mathcal{N}(m_0, \\frac{\\sigma}{\\sqrt{n}})$\n",
    "\n",
    "$H_1 : \\overline{X} \\sim \\mathcal{N}(m_1, \\frac{\\sigma}{\\sqrt{n}})$\n"
   ]
  },
  {
   "cell_type": "markdown",
   "metadata": {},
   "source": [
    "## Ошибки 1 и 2 рода\n",
    "\n",
    "![title](table.png)"
   ]
  },
  {
   "cell_type": "markdown",
   "metadata": {},
   "source": [
    "![title](errors1.jpg)"
   ]
  },
  {
   "cell_type": "markdown",
   "metadata": {},
   "source": [
    "У нас достаточно много способов определить *статистику* и *критическую область*. Чтобы выбрать наилучший вариант нужно ввести понятие мощности."
   ]
  }
 ],
 "metadata": {
  "kernelspec": {
   "display_name": "Python 3",
   "language": "python",
   "name": "python3"
  },
  "language_info": {
   "codemirror_mode": {
    "name": "ipython",
    "version": 3
   },
   "file_extension": ".py",
   "mimetype": "text/x-python",
   "name": "python",
   "nbconvert_exporter": "python",
   "pygments_lexer": "ipython3",
   "version": "3.8.5"
  }
 },
 "nbformat": 4,
 "nbformat_minor": 4
}
