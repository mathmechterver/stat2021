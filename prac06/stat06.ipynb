{
 "cells": [
  {
   "cell_type": "markdown",
   "metadata": {},
   "source": [
    "## 6. Наркоманские распределения: Хи, Фишера и Стьюдента"
   ]
  },
  {
   "cell_type": "markdown",
   "metadata": {},
   "source": [
    "### Мразь 1\n",
    "\n",
    "Пусть $ z_{1}, \\ldots ,z_{k}$ — совместно независимые стандартные нормальные случайные величины, то есть: $ z_{i}\\sim \\mathcal{N}(0,1)$. Тогда случайная величина\n",
    "\n",
    "$$X=z_{1}^{2}+\\ldots +z_{k}^{2}$$\n",
    "имеет распределение хи-квадрат с $k$ степенями свободы, то есть $$X \\sim f_{\\chi ^{2}(k)}(x)$$, или, если записать по-другому:"
   ]
  },
  {
   "cell_type": "markdown",
   "metadata": {},
   "source": [
    "## Мразь 2\n",
    "\n",
    "Пусть $Y_{1},Y_{2}$ — две независимые случайные величины, имеющие распределение хи-квадрат: $ Y_{i}\\sim \\chi ^{2}(d_{i})$, где $ d_{i}\\in \\mathbb {N} ,\\;i=1,2$ . Тогда распределение случайной величины\n",
    "\n",
    "$ F={\\frac {Y_{1}/d_{1}}{Y_{2}/d_{2}}}$ называется распределением Фишера со степенями свободы $d_{1}$ и $d_{2}$. Пишут $ F\\sim \\mathrm{F}(d_{1},d_{2})$"
   ]
  },
  {
   "cell_type": "markdown",
   "metadata": {},
   "source": [
    "## Мразь 3\n",
    "\n",
    "Пусть $Y_{0},Y_{1},\\ldots ,Y_{n}$ — независимые стандартные нормальные случайные величины, такие что $ Y_{i}\\sim {\\mathcal {N}}(0,1),\\;i=0,\\ldots ,n$. Тогда распределение случайной величины $t$, где\n",
    "\n",
    "$t={\\frac {Y_{0}}{\\sqrt {{\\frac {1}{n}}\\sum \\limits _{i=1}^{n}Y_{i}^{2}}}}$,\n",
    "называется распределением Стьюдента с $n$ степенями свободы $t\\sim \\mathrm {t}(n)$"
   ]
  }
 ],
 "metadata": {
  "kernelspec": {
   "display_name": "Python 3",
   "language": "python",
   "name": "python3"
  },
  "language_info": {
   "codemirror_mode": {
    "name": "ipython",
    "version": 3
   },
   "file_extension": ".py",
   "mimetype": "text/x-python",
   "name": "python",
   "nbconvert_exporter": "python",
   "pygments_lexer": "ipython3",
   "version": "3.8.5"
  }
 },
 "nbformat": 4,
 "nbformat_minor": 4
}
