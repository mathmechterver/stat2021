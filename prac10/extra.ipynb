{
 "cells": [
  {
   "cell_type": "markdown",
   "metadata": {},
   "source": [
    "\n",
    "Решение: найдем эмпирическую и теоретические функции распределения\n",
    "\n",
    "|$x_{(i)}$      | 0.02 | 0.11 | 0.17 | 0.25 | 0.29 | 0.32 | 1.31 | 1.48 | 1.66 | 3.09 |\n",
    "|---------------|------|------|------|------|------|------|------|------|------|------|\n",
    "|$F_0(x_{(i)})$ | 0.02 | 0.11 | 0.16 | 0.22 | 0.25 | 0.27 | 0.73 | 0.77 | 0.81 | 0.95 |\n",
    "|$F^*(x_{(i)})$ | 0    | 0.1  | 0.2  | 0.3  | 0.4  | 0.5  | 0.6  | 0.7  | 0.8  | 0.9  |"
   ]
  }
 ],
 "metadata": {
  "kernelspec": {
   "display_name": "Python 3",
   "language": "python",
   "name": "python3"
  },
  "language_info": {
   "codemirror_mode": {
    "name": "ipython",
    "version": 3
   },
   "file_extension": ".py",
   "mimetype": "text/x-python",
   "name": "python",
   "nbconvert_exporter": "python",
   "pygments_lexer": "ipython3",
   "version": "3.8.5"
  }
 },
 "nbformat": 4,
 "nbformat_minor": 4
}
