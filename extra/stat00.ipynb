{
 "cells": [
  {
   "cell_type": "markdown",
   "metadata": {},
   "source": [
    "# 0. Производные по матрице. Многомерные случайные величины"
   ]
  },
  {
   "cell_type": "markdown",
   "metadata": {},
   "source": [
    "Since it easy to google every task please please please try to undestand what's going on. The \"just answer\" thing will be not counted, make sure to present derivation of your solution. It is absolutely OK if you found an answer on web then just exercise in $\\LaTeX$ copying it into here."
   ]
  },
  {
   "cell_type": "markdown",
   "metadata": {},
   "source": [
    "Useful links: \n",
    "[1](http://www.machinelearning.ru/wiki/images/2/2a/Matrix-Gauss.pdf)\n",
    "[2](http://www.atmos.washington.edu/~dennis/MatrixCalculus.pdf)\n",
    "[3](http://cal.cs.illinois.edu/~johannes/research/matrix%20calculus.pdf)\n",
    "[4](http://research.microsoft.com/en-us/um/people/cmbishop/prml/index.htm)"
   ]
  },
  {
   "cell_type": "markdown",
   "metadata": {},
   "source": [
    "## ex. 1"
   ]
  },
  {
   "cell_type": "markdown",
   "metadata": {},
   "source": [
    "$$  \n",
    "y = x^Tx,  \\quad x \\in \\mathbb{R}^N \n",
    "$$"
   ]
  },
  {
   "cell_type": "markdown",
   "metadata": {},
   "source": [
    "$$\n",
    "\\frac{dy}{dx} = \\frac{d(\\sum_{i=1}^{N}x_i^2)}{dx} = \n",
    "\\begin{pmatrix}\n",
    "\\frac{\\partial \\sum_{i=1}^{N}x_i^2}{\\partial x_1} \\\\\n",
    "\\frac{\\partial \\sum_{i=1}^{N}x_i^2}{\\partial x_2} \\\\\n",
    "\\vdots  \\\\\n",
    "\\frac{\\partial \\sum_{i=1}^{N}x_i^2}{\\partial x_N}\n",
    "\\end{pmatrix}\n",
    "=\n",
    "\\begin{pmatrix}\n",
    "2x_1 \\\\\n",
    "2x_2 \\\\\n",
    "\\vdots  \\\\\n",
    "2x_N\n",
    "\\end{pmatrix}\n",
    "=\n",
    "2x\n",
    "$$ "
   ]
  },
  {
   "cell_type": "markdown",
   "metadata": {},
   "source": [
    "## ex. 2"
   ]
  },
  {
   "cell_type": "markdown",
   "metadata": {},
   "source": [
    "$$ y = tr(AB) \\quad A,B \\in \\mathbb{R}^{N \\times N} $$ "
   ]
  },
  {
   "cell_type": "markdown",
   "metadata": {},
   "source": [
    "## ex. 3"
   ]
  },
  {
   "cell_type": "markdown",
   "metadata": {},
   "source": [
    "$$  \n",
    "y = x^TAc , \\quad A\\in \\mathbb{R}^{N \\times N}, x\\in \\mathbb{R}^{N}, c\\in \\mathbb{R}^{N} \n",
    "$$"
   ]
  },
  {
   "cell_type": "markdown",
   "metadata": {},
   "source": [
    "Пусть: $b = Ac \\in \\mathbb{R}^{N}$"
   ]
  },
  {
   "cell_type": "markdown",
   "metadata": {},
   "source": [
    "$$\n",
    "\\frac{dy}{dA} =\n",
    "$$ "
   ]
  },
  {
   "cell_type": "markdown",
   "metadata": {},
   "source": [
    "Hint for the latter (one of the ways): use *ex. 2* result and the fact \n",
    "$$\n",
    "tr(ABC) = tr (CAB)\n",
    "$$"
   ]
  },
  {
   "cell_type": "markdown",
   "metadata": {
    "jupyter": {
     "outputs_hidden": true
    }
   },
   "source": [
    "Так как $y$ - number, not matrix. $y = tr(y)$"
   ]
  },
  {
   "cell_type": "markdown",
   "metadata": {},
   "source": [
    "$$\n",
    "\\frac{dy}{dA} = \\frac{d tr(x^TAc)}{dA} = \\frac{d tr(Acx^T)}{dA} = (cx^T)^T = xc^T\n",
    "$$ "
   ]
  },
  {
   "cell_type": "markdown",
   "metadata": {},
   "source": [
    "## ex. 4"
   ]
  },
  {
   "cell_type": "markdown",
   "metadata": {},
   "source": [
    "Classic matrix factorization example. Given matrix $X$ you need to find $A$, $S$ to approximate $X$. This can be done by simple gradient descent iteratively alternating $A$ and $S$ updates.\n",
    "$$\n",
    "J = || X - AS ||_F^2  , \\quad A\\in \\mathbb{R}^{N \\times R} , \\quad S\\in \\mathbb{R}^{R \\times M}\n",
    "$$\n",
    "$$\n",
    "\\frac{dJ}{dS} = ? \n",
    "$$ "
   ]
  },
  {
   "cell_type": "markdown",
   "metadata": {},
   "source": [
    "1. Доказать тождество Вудбери:\n",
    " $$(A+UCV)^{-1} = A^{-1} - A^{-1}U(C^{-1} + VA^{-1}U)^{-1}VA^{-1} $$\n",
    "        Здесь $A\\in\\mathbb{R}^{n{\\times}n}$, $C\\in\\mathbb{R}^{m{\\times}m}$, $U\\in\\mathbb{R}^{n{\\times}m}$, $V\\in\\mathbb{R}^{m{\\times}n}$.\n",
    "    "
   ]
  },
  {
   "cell_type": "markdown",
   "metadata": {},
   "source": [
    "2. Пусть $p(\\vec{x}) = \\mathcal{N}(\\vec{x}|\\vec{\\mu},\\Sigma)$, $p(\\vec{y}|\\vec{x}) = \\mathcal{N}(\\vec{y}|A\\vec{x},\\Gamma)$, $A\\in\\mathbb{R}^{m{\\times}n}$. Найти распределение $p(\\vec{x}|\\vec{y})$.\n",
    "    "
   ]
  },
  {
   "cell_type": "markdown",
   "metadata": {},
   "source": [
    "3. Пусть $p(\\vec{x}) = \\mathcal{N}(\\vec{x}|\\vec{\\mu},\\Sigma)$, $p(\\vec{y}|\\vec{x}) = \\mathcal{N}(\\vec{y}|A\\vec{x},\\Gamma)$. Доказать, что $p(\\vec{y}) = \\mathcal{N}(\\vec{y}|A\\vec{\\mu},\\Gamma+A\\Sigma A^T)$.\n",
    "    "
   ]
  },
  {
   "cell_type": "markdown",
   "metadata": {},
   "source": [
    "4. Вычислить $\\frac{\\partial}{\\partial X}\\det(X^{-1}+A)$ (все матрицы не являются симметричными);\n"
   ]
  },
  {
   "cell_type": "markdown",
   "metadata": {},
   "source": [
    "5. Вычислить $\\frac{\\partial}{\\partial X}tr(AX^{-T}BXC)$ (все матрицы не являются симметричными, матрицы $A,C$ не являютяс квадратными).\n",
    "    "
   ]
  }
 ],
 "metadata": {
  "kernelspec": {
   "display_name": "Python 3",
   "language": "python",
   "name": "python3"
  },
  "language_info": {
   "codemirror_mode": {
    "name": "ipython",
    "version": 3
   },
   "file_extension": ".py",
   "mimetype": "text/x-python",
   "name": "python",
   "nbconvert_exporter": "python",
   "pygments_lexer": "ipython3",
   "version": "3.7.6"
  }
 },
 "nbformat": 4,
 "nbformat_minor": 4
}
