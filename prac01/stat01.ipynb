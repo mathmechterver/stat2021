{
 "cells": [
  {
   "cell_type": "markdown",
   "metadata": {},
   "source": [
    "# 1. Сходимости случайных величин"
   ]
  },
  {
   "cell_type": "markdown",
   "metadata": {},
   "source": [
    "### Видеоматериалы \n",
    "[Сходимости случайных величин](https://stepik.org/lesson/48680/step/2?unit=26451)"
   ]
  },
  {
   "cell_type": "markdown",
   "metadata": {},
   "source": [
    "### Теория (курс Черновой)\n",
    "[Сходимости почти наверное и по вероятности](https://nsu.ru/mmf/tvims/chernova/tv/lec/node53.html#SECTION0001210)"
   ]
  },
  {
   "cell_type": "markdown",
   "metadata": {},
   "source": [
    "### Сходимость почти наверное (almost everywhere)\n",
    "\n",
    "$$\\xi_n \\overset{\\textrm{п.н.}}{\\to} \\xi$$\n",
    "\n",
    "Если\n",
    "\n",
    "$$P(\\{ \\omega \\in \\Omega : \\xi_n(\\omega) \\underset{n \\to \\infty}{\\to} \\xi(\\omega) \\}) = 1$$ \n",
    "\n",
    "или\n",
    "\n",
    "$$P(\\{ \\omega \\in \\Omega : \\xi_n(\\omega) \\underset{n \\to \\infty}{\\not\\to} \\xi(\\omega) \\}) = 0$$ \n",
    "\n",
    "или [эквивалентно](https://youtu.be/zdiMEFuwUbg?t=732)\n",
    "\n",
    "$$\\forall \\varepsilon > 0 : P(\\{ \\omega \\in \\Omega : \\sup_{k \\geq n} |\\xi_k(\\omega)-\\xi(\\omega)| > \\varepsilon \\}) \\underset{n \\to \\infty}{\\to} 0$$\n",
    "\n",
    "### По вероятности\n",
    "$$\\xi_n \\overset{\\mathbb{P}}{\\to} \\xi$$ \n",
    "\n",
    "Если\n",
    "\n",
    "$$\\forall \\varepsilon > 0 : P(\\{\\omega \\in \\Omega : |\\xi_n(\\omega)-\\xi(\\omega)| > \\varepsilon \\}) \\underset{n \\to \\infty}{\\to} 0$$"
   ]
  },
  {
   "cell_type": "markdown",
   "metadata": {},
   "source": [
    "### Важная теоремка:\n",
    "Из сходимости почти наверное следует сходимость по вероятности. "
   ]
  },
  {
   "cell_type": "markdown",
   "metadata": {},
   "source": [
    "------------------"
   ]
  },
  {
   "cell_type": "markdown",
   "metadata": {},
   "source": [
    "# На паре"
   ]
  },
  {
   "cell_type": "markdown",
   "metadata": {},
   "source": [
    "1. Рассмотрим последовательность $\\xi_1, \\ldots, \\xi_n$, в которой все величины имеют разные распределения: величина  принимает значения $0$ и $n^7$ с вероятностями $1 - \\frac{1}{n}$ и $\\frac{1}{n}$. Докажите, что $\\xi_n \\xrightarrow[n \\to \\infty]{\\mathbb{P}} 0 $.\n",
    "\n",
    "2. Пусть $\\xi_n \\overset{\\textrm{п.н.}}{\\to} 1$ и $\\mu_n \\overset{\\textrm{п.н.}}{\\to} 1$. \n",
    "Тогда $\\xi_n + \\mu_n \\overset{\\textrm{п.н.}}{\\to} 2$\n",
    "\n",
    "3. Пусть $\\xi_n \\overset{п.н.}{\\to} \\xi$ и $g(x)$ - непрерывная функция. Докажите, что $g(\\xi_n) \\overset{п.н.}{\\to} g(\\xi)$ \n",
    "\n",
    "4. Пусть $(\\xi_n - \\xi)^2 \\overset{\\mathbb{P}}{\\to} 0$. Доказать, что $\\xi_n \\overset{\\mathbb{P}}{\\to} \\xi$.\n"
   ]
  },
  {
   "cell_type": "markdown",
   "metadata": {},
   "source": [
    "# Дома"
   ]
  },
  {
   "cell_type": "markdown",
   "metadata": {},
   "source": [
    "**1.** (1) Пусть $\\xi_n \\overset{\\textrm{п.н.}}{\\to} 1$ и $\\mu_n \\overset{\\textrm{п.н.}}{\\to} 1$. \n",
    "Тогда $\\xi_n\\mu_n \\overset{\\textrm{п.н.}}{\\to} 1$"
   ]
  },
  {
   "cell_type": "markdown",
   "metadata": {},
   "source": [
    "**2.** (1) Пусть $\\xi_n \\overset{\\mathbb{P}}{\\to} 1$ и $\\mu_n \\overset{\\mathbb{P}}{\\to} 1$. \n",
    "Тогда $\\frac{1}{\\xi_n + \\mu_n} \\overset{\\mathbb{P}}{\\to} \\frac{1}{2}$"
   ]
  },
  {
   "cell_type": "markdown",
   "metadata": {},
   "source": [
    "**3.** (1) Пусть $\\xi_n \\overset{\\mathbb{P}}{\\to} \\xi$ и $g(x)$ - непрерывная, дифференцируемая и монотонно возрастающая функция. Докажите, что $g(\\xi_n) \\overset{\\mathbb{P}}{\\to} g(\\xi)$.\n"
   ]
  },
  {
   "cell_type": "markdown",
   "metadata": {},
   "source": [
    "**4.** (1) Пусть $\\xi_n \\overset{\\textrm{п.н.}}{\\to} \\xi$ и $\\mu_n \\overset{\\textrm{п.н.}}{\\to} \\eta$. \n",
    "Тогда $\\xi_n + \\mu_n \\overset{\\textrm{п.н.}}{\\to} \\xi + \\eta$"
   ]
  },
  {
   "cell_type": "markdown",
   "metadata": {},
   "source": [
    "**5.** (1) Пусть $\\xi_n$ - последовательность независимых и равномерно распределенных на [0,1] случайных величин. \n",
    "\n",
    "Найдите распределение случайной величины $m_n=\\min (\\xi_1,\\ldots,\\xi_n)$. Докажите, что $m_n$ стремится почти наверное к 0"
   ]
  },
  {
   "cell_type": "markdown",
   "metadata": {},
   "source": [
    "# Гробы (все по 2)"
   ]
  },
  {
   "cell_type": "markdown",
   "metadata": {},
   "source": [
    "![title](tombs1.png)"
   ]
  }
 ],
 "metadata": {
  "kernelspec": {
   "display_name": "Python 3",
   "language": "python",
   "name": "python3"
  },
  "language_info": {
   "codemirror_mode": {
    "name": "ipython",
    "version": 3
   },
   "file_extension": ".py",
   "mimetype": "text/x-python",
   "name": "python",
   "nbconvert_exporter": "python",
   "pygments_lexer": "ipython3",
   "version": "3.7.6"
  }
 },
 "nbformat": 4,
 "nbformat_minor": 4
}
