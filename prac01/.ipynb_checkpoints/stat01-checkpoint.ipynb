{
 "cells": [
  {
   "cell_type": "markdown",
   "metadata": {},
   "source": [
    "## Практика 1. Сходимости случайных величин"
   ]
  },
  {
   "cell_type": "markdown",
   "metadata": {},
   "source": [
    "# TODO Добавить сходимости по распределению, в среднем и по распределению"
   ]
  },
  {
   "cell_type": "markdown",
   "metadata": {},
   "source": [
    "### Сходимость почти наверное\n",
    "\n",
    "$$\\xi_n \\overset{\\textrm{п.н.}}{\\to} \\xi$$\n",
    "\n",
    "Если\n",
    "\n",
    "$$P(\\{ \\omega \\in \\Omega : \\xi_n(\\omega) \\underset{n \\to \\infty}{\\to} \\xi(\\omega) \\}) = 1$$ \n",
    "\n",
    "или\n",
    "\n",
    "$$P(\\{ \\omega \\in \\Omega : \\xi_n(\\omega) \\underset{n \\to \\infty}{\\not\\to} \\xi(\\omega) \\}) = 0$$ \n",
    "\n",
    "или эквивалентно\n",
    "\n",
    "$$\\forall \\varepsilon > 0 : P(\\{ \\omega \\in \\Omega : \\sup_{k \\geq n} |\\xi_k(\\omega)-\\xi(\\omega)| > \\varepsilon \\}) \\underset{n \\to \\infty}{\\to} 0$$\n",
    "\n",
    "### По вероятности\n",
    "$$\\xi_n \\overset{\\mathbb{P}}{\\to} \\xi$$ \n",
    "\n",
    "Если\n",
    "\n",
    "$$\\forall \\varepsilon > 0 : P(\\{\\omega \\in \\Omega : |\\xi_n(\\omega)-\\xi(\\omega)| > \\varepsilon \\}) \\underset{n \\to \\infty}{\\to} 0$$"
   ]
  },
  {
   "cell_type": "markdown",
   "metadata": {},
   "source": [
    "------------------"
   ]
  },
  {
   "cell_type": "markdown",
   "metadata": {},
   "source": [
    "# Классная работа"
   ]
  },
  {
   "cell_type": "markdown",
   "metadata": {},
   "source": [
    "1. Точка путешествует по целым числам. Каждый раз она шагает на $1$, с вероятностью $p$ — вправо, с вероятностью $1-p$ — влево. \n",
    "Докажите, что при $p \\neq \\frac{1}{2}$ вероятность того, что она вернется в исходное положение бесконечное число раз равна $0$.\n",
    "\n",
    "2. Пусть $\\xi_n \\to \\xi$ п.н и $g(x)$ - непрерывная функция. Докажите, что $g(\\xi_n) \\to g(\\xi)$ п.н.\n",
    "\n",
    "3. Пусть $(\\xi_n - \\xi)^2 \\to 0$ п.н. Доказать, что $\\xi_n \\to \\xi$ п.н.\n",
    "\n",
    "4. Пусть $\\xi_n \\overset{\\mathbb{P}}{\\to} \\xi$ и $g(x)$ - непрерывная, дифференцируемая и монотонно возрастающая функция. Докажите, что $g(\\xi_n) \\overset{\\mathbb{P}}{\\to} g(\\xi)$.\n"
   ]
  },
  {
   "cell_type": "markdown",
   "metadata": {},
   "source": [
    "# Домашка"
   ]
  },
  {
   "cell_type": "markdown",
   "metadata": {},
   "source": [
    "**1.** Пусть $\\xi_n \\overset{\\textrm{п.н.}}{\\to} 1$ и $\\mu_n \\overset{\\textrm{п.н.}}{\\to} 1$. \n",
    "Тогда \n",
    "- (1)$\\xi_n\\mu_n \\overset{\\textrm{п.н.}}{\\to} 1$"
   ]
  },
  {
   "cell_type": "markdown",
   "metadata": {},
   "source": [
    "**2.** (2)Пусть $\\xi_n$ - последовательность независимых и равномерно распределенных на [0,1] случайных величин. \n",
    "\n",
    "Найдите распределение случайной величины $m_n=\\min (\\xi_1,\\ldots,\\xi_n)$. Докажите, что $m_n$ стремится почти наверное к 0"
   ]
  },
  {
   "cell_type": "markdown",
   "metadata": {},
   "source": [
    "**3.** Пусть $\\xi_n \\overset{\\mathbb{P}}{\\to} \\xi$ и $g(x)$ - дифференцируемая и монотонно возрастающая функция. Докажите, что $g(\\xi_n) \\overset{\\mathbb{P}}{\\to} g(\\xi)$.\n",
    "\n"
   ]
  },
  {
   "cell_type": "markdown",
   "metadata": {},
   "source": [
    "**4.** (1)Пусть $\\xi_n \\overset{\\textrm{п.н.}}{\\to} 1$ и $\\mu_n \\overset{\\textrm{п.н.}}{\\to} 1$. \n",
    "Тогда $\\frac{1}{\\xi_n + \\mu_n} \\overset{\\mathbb{P}}{\\to} \\frac{1}{2}$"
   ]
  },
  {
   "cell_type": "markdown",
   "metadata": {},
   "source": [
    "### Видеоматериалы \n",
    "[Сходимости случайных величин](https://stepik.org/lesson/48680/step/2?unit=26451)"
   ]
  },
  {
   "cell_type": "markdown",
   "metadata": {},
   "source": [
    "### Теория (курс Черновой)\n",
    "[Основы комбинаторики](https://nsu.ru/mmf/tvims/chernova/tv/lec/node3.html#SECTION000210)\n",
    "\n",
    "[Элементарная теория вероятностей](https://nsu.ru/mmf/tvims/chernova/tv/lec/node4.html#SECTION000220)"
   ]
  }
 ],
 "metadata": {
  "kernelspec": {
   "display_name": "Python 3",
   "language": "python",
   "name": "python3"
  },
  "language_info": {
   "codemirror_mode": {
    "name": "ipython",
    "version": 3
   },
   "file_extension": ".py",
   "mimetype": "text/x-python",
   "name": "python",
   "nbconvert_exporter": "python",
   "pygments_lexer": "ipython3",
   "version": "3.8.5"
  }
 },
 "nbformat": 4,
 "nbformat_minor": 4
}
