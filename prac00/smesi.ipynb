{
 "cells": [
  {
   "cell_type": "markdown",
   "metadata": {},
   "source": [
    "# Смеси распределений"
   ]
  },
  {
   "cell_type": "markdown",
   "metadata": {},
   "source": [
    "$S \\sim F(x) = W_1F_1(x) + \\ldots + W_LF_L(x) $,  \n",
    "\n",
    "$W_k$ - доля страты k, \n",
    "\n",
    "$\\mu_k$ - матожидание $F_k$, $D_k$ - дисперсия $F_k$  \n",
    "\n",
    "$\\sum_{i=1}^{L}W_i = 1$\n",
    "\n",
    "$\\mu_S = \\sum_{i=1}^{L}W_i\\mu_i$\n",
    "\n",
    "$D_S = \\sum_{i=1}^{L}W_i(D_k + (\\mu_k - \\mu_S)^2)$\n"
   ]
  },
  {
   "cell_type": "markdown",
   "metadata": {},
   "source": [
    "### Оценки матожиданий смеси\n",
    "\n",
    "$\\hat\\mu_S = \\overline{X_S} = \\sum_{k=1}^{L}W_k\\overline{X_k}$\n",
    "\n",
    "$\\mathbb{E}(\\overline{X_S}) = \\mu$\n",
    "\n",
    "$\\mathbb{D}(\\overline{X_S}) = \\sum_{k=1}^{L}W_k^2\\mathbb{D}(\\overline{X_k}) = \\sum_{k=1}^{L}W_k^2\\frac{\\sigma^2_k}{n_k}$\n"
   ]
  },
  {
   "cell_type": "markdown",
   "metadata": {},
   "source": [
    "### Оценки дисперсии смеси\n",
    "\n",
    "$D_S = \\sum_{k=1}^{L}W_k\\sigma_k^2 + \\sum_{k=1}^{L}W_k(\\mu_k - \\mu)^2 $\n",
    "\n",
    "$\\hat{D_s} = \\sum_{k=1}^{L}W_k\\hat{D_k} + \\sum_{k=1}^{L}W_k(\\overline{X_k}- \\sum_{j=1}^{L}W_j\\overline{X_j})^2 $\n",
    "\n",
    "$\\mathbb{E}(\\hat{D_s}) = \\sum_{k=1}^{L}\\mathbb{E}(\\hat{D_k}) + \\sum_{k=1}^{L}W_k\\mathbb{E}\\Big(\\overline{X_k}- \\sum_{j=1}^{L}W_j\\overline{X_j})\\Big)$\n",
    "\n",
    "$\\mathbb{D}(\\hat{D_s}) = \\sum_{k=1}^{L}\\mathbb{D}(\\hat{D_k}) + \\mathbb{D}\\Big(\\sum_{k=1}^{L}W_k(\\overline{X_k}- \\sum_{j=1}^{L}W_j\\overline{X_j})\\Big)$"
   ]
  },
  {
   "cell_type": "markdown",
   "metadata": {},
   "source": [
    "**1.** [ref](https://stepik.org/lesson/26213/step/7?unit=8136)\n",
    "\n",
    "Предположим, что необходимо оценить число свободных мест в больницах. Все больницы разбили на 2 страты по числу коек-мест. Доля страты 1 составила 40%, страты 2 - 60%.\n",
    "\n",
    "Из каждой страты были получены выборки числа свободных мест объемом 10 каждая:\n",
    "\n",
    "страта 1: 282, 226, 188, 327, 344, 304, 414, 224, 335, 270\n",
    "\n",
    "страта 2: 417,  851,  742, 1217, 1160,  993,  864,  852, 1286,  988\n",
    "\n",
    "Найдите оценку среднего числа свободных мест в больницах, а также оценку дисперсии числа свободных мест\n",
    "\n"
   ]
  },
  {
   "cell_type": "markdown",
   "metadata": {},
   "source": [
    "# Какими выбрать объемы страт\n",
    "\n",
    "Критерий Неймана\n",
    "$\\hat{n_i} = n\\frac{W_k\\sigma_k}{\\sum_{k=1}^{L}W_k\\sigma_k}$, при нем минимизируется $\\mathbb{D}(\\overline{X_S})$"
   ]
  },
  {
   "cell_type": "markdown",
   "metadata": {},
   "source": [
    "1. [ref](https://stepik.org/lesson/26213/step/9?unit=8136)\n",
    "Генеральная совокупность представляет собой смесь двух распределений: первое составляет $25\\%$ исходной генеральной совокупности, имеет дисперсию $4$, второе - $75\\%$,  дисперсию $6.25$. Какими следует выбрать объемы выборок из данных страт так, чтобы оценка мат.ожидания исходной генеральной совокупности имела наименьшую дисперсию, если общий объем выборки должен равняться $100$?"
   ]
  },
  {
   "cell_type": "code",
   "execution_count": null,
   "metadata": {},
   "outputs": [],
   "source": []
  }
 ],
 "metadata": {
  "kernelspec": {
   "display_name": "Python 3",
   "language": "python",
   "name": "python3"
  },
  "language_info": {
   "codemirror_mode": {
    "name": "ipython",
    "version": 3
   },
   "file_extension": ".py",
   "mimetype": "text/x-python",
   "name": "python",
   "nbconvert_exporter": "python",
   "pygments_lexer": "ipython3",
   "version": "3.8.5"
  }
 },
 "nbformat": 4,
 "nbformat_minor": 4
}
