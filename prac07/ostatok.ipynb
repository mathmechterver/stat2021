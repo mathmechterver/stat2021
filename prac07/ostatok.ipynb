{
 "cells": [
  {
   "cell_type": "markdown",
   "metadata": {},
   "source": [
    "$\\overline{X} = \\frac{\\sum_{i=1}^n X_i}{n} \\sim \\mathcal{N}(a, \\frac{\\sigma}{n})$\n",
    "\n",
    "$Y = \\sqrt{n}\\frac{\\overline{X} - a}{\\sigma} \\sim \\mathcal{N}(0, 1)$"
   ]
  },
  {
   "cell_type": "markdown",
   "metadata": {},
   "source": [
    "$1-\\alpha$-интервал\n",
    "\n",
    "$(1-\\alpha) = P\\Big(u_{\\frac{\\alpha}{2}} < \\sqrt{n}\\frac{\\overline{X} - a}{\\sigma} < u_{1 - \\frac{\\alpha}{2}}\\Big) $"
   ]
  },
  {
   "cell_type": "markdown",
   "metadata": {},
   "source": [
    "![title](interval.png)"
   ]
  },
  {
   "cell_type": "markdown",
   "metadata": {},
   "source": [
    "### Мразь 3\n",
    "\n",
    "Пусть $Y_{1},Y_{2}$ — две независимые случайные величины, имеющие распределение хи-квадрат: $ Y_{i}\\sim \\chi ^{2}(d_{i})$, где $ d_{i}\\in \\mathbb {N} ,\\;i=1,2$ . Тогда распределение случайной величины\n",
    "\n",
    "$ F={\\frac {Y_{1}/d_{1}}{Y_{2}/d_{2}}}$ называется распределением Фишера со степенями свободы $d_{1}$ и $d_{2}$. Пишут $ F\\sim \\mathrm{F}(d_{1},d_{2})$"
   ]
  }
 ],
 "metadata": {
  "kernelspec": {
   "display_name": "Python 3",
   "language": "python",
   "name": "python3"
  },
  "language_info": {
   "codemirror_mode": {
    "name": "ipython",
    "version": 3
   },
   "file_extension": ".py",
   "mimetype": "text/x-python",
   "name": "python",
   "nbconvert_exporter": "python",
   "pygments_lexer": "ipython3",
   "version": "3.8.5"
  }
 },
 "nbformat": 4,
 "nbformat_minor": 4
}
