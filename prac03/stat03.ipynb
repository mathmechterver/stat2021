{
 "cells": [
  {
   "cell_type": "markdown",
   "metadata": {},
   "source": [
    "# 3. Слабая сходимость, сходимость по распределению."
   ]
  },
  {
   "cell_type": "markdown",
   "metadata": {},
   "source": [
    "## Видео"
   ]
  },
  {
   "cell_type": "markdown",
   "metadata": {},
   "source": [
    "[Сходимости последовательностей](https://stepik.org/lesson/48680/step/1?unit=26451)\n",
    "\n",
    "[Интеграл Лебега](https://www.youtube.com/watch?v=IA5ZttuI9Ms&list=PLys0IdlMg6Xdm0RSlnPaySWxCCYDpAbiL&index=13)"
   ]
  },
  {
   "cell_type": "markdown",
   "metadata": {},
   "source": [
    "## Теория"
   ]
  },
  {
   "cell_type": "markdown",
   "metadata": {},
   "source": [
    "[Традиционные лекции Черновой, в этот раз про слабую сходимость](https://nsu.ru/mmf/tvims/chernova/tv/lec/node59.html)\n",
    "\n",
    "\n",
    "[Введем интеграл Лебега](https://www.hse.ru/data/2015/02/24/1090761592/matan3mod-9.pdf)\n",
    "\n",
    "[Крутая методичка про интеграл Лебега в теории вероятности для математиков Самарского университета](http://repo.ssau.ru/bitstream/Uchebnye-posobiya/Integral-Lebega-v-teorii-veroyatnostei-Elektronnyi-resurs-ucheb-posobie-68472/1/%D0%9D%D0%BE%D0%B2%D0%B8%D0%BA%D0%BE%D0%B2%20%D0%A1.%D0%AF.%20%D0%98%D0%BD%D1%82%D0%B5%D0%B3%D1%80%D0%B0%D0%BB%20%D0%9B%D0%B5%D0%B1%D0%B5%D0%B3%D0%B0.pdf)\n",
    "\n",
    "[Здесь вы найдете подход, в котором введут известные вам понятия в теории вероятности по новому](https://kpfu.ru/staff_files/F101496462/Metody_Teor_Ver_I.pdf)"
   ]
  },
  {
   "cell_type": "markdown",
   "metadata": {},
   "source": [
    "### Слабая сходимость мер.\n",
    "$\\mu_n \\overset{w}{\\to} \\mu$, если для любой непрерывной функции $\\phi(x)$ определенной на $\\mathbb{R}$   \n",
    "\n",
    "$$\\int_{\\mathbb{R}}\\phi(x)\\mu_n(dx) \\to \\int_{\\mathbb{R}}\\phi(x)\\mu(dx)$$"
   ]
  },
  {
   "cell_type": "markdown",
   "metadata": {},
   "source": [
    "### Сходимость по распределению \n",
    "\n",
    "**Определение через слабую сходимость мер:**\n",
    "\n",
    "$\\xi_n \\overset{d}{\\to} \\xi$, если для любой непрерывной функции $\\phi(x)$ определенной на $\\mathbb{R}$\n",
    "\n",
    "$$\\int_{\\Omega}\\phi(\\xi_n(\\omega))\\mathbb{P}(d\\omega) \\to \\int_{\\Omega}\\phi(\\xi(\\omega))\\mathbb{P}(d\\omega)$$\n",
    "\n",
    "В интегралах Лебега можно производить замену переменных, поэтому:\n",
    "\n",
    "$$\\int_{\\Omega}\\phi(\\xi(\\omega))\\mathbb{P}(d\\omega) = \\int_{\\mathbb{R}}\\phi(x)P^{X}(dx)$$\n",
    "\n",
    "А значит: \n",
    "\n",
    "$$\\int_{\\mathbb{R}}\\phi(x)P^{x_n}(dx) \\to \\int_{\\mathbb{R}}\\phi(x)P^{X}(dx)$$\n",
    "\n",
    "А также если немного порефлексировать, то можно заметить, что:\n",
    "\n",
    "$$\\int_{\\Omega}\\phi(\\xi(\\omega))\\mathbb{P}(d\\omega) = \\mathbb{E}(\\phi(\\xi))$$\n"
   ]
  },
  {
   "cell_type": "markdown",
   "metadata": {},
   "source": [
    "### Сходимость по распределению \n",
    "\n",
    "**Определение через функции распределения:**\n",
    "\n",
    "$\\xi_n \\overset{d}{\\to} \\xi$, если для любого $x$, в котором $F_{\\xi}(x)$ непрерывна имеет место сходимость:\n",
    "\n",
    "$$\\forall x F_{\\xi_n}(x) \\to F_{\\xi}(x), F_{\\mu}(x) = \\mu((-\\infty, x))$$\n"
   ]
  },
  {
   "cell_type": "markdown",
   "metadata": {},
   "source": [
    "## Задачи на пару"
   ]
  },
  {
   "cell_type": "markdown",
   "metadata": {},
   "source": [
    "**1.** Пусть $\\xi_n \\overset{d}{\\to} \\xi$ и $g(x)$ - непрерывная функция. Докажите, что $g(\\xi_n) \\overset{d}{\\to} g(\\xi)$\n",
    "\n",
    "**2.** Если $\\xi_n \\overset{d}{\\to} const$, то $\\xi_n \\overset{\\mathbb{P}}{\\to} const$\n",
    "\n",
    "**3.** Пусть $\\{\\xi_i\\}_{i=1}^{\\infty}$ - положительно определенные и $E|\\xi_n - \\xi| \\to 0$. \n",
    "Сходится ли $E|\\xi_n + k| \\to E|\\xi+k|$ для k из $\\mathbb{R_{+}}$. \n",
    "\n",
    "**4.** Докажите, что $\\xi_n \\overset{d}{\\to} \\xi \\Rightarrow \\xi_n \\overset{P}{\\not\\to} \\xi$"
   ]
  },
  {
   "cell_type": "markdown",
   "metadata": {},
   "source": [
    "## ДЗ"
   ]
  },
  {
   "cell_type": "markdown",
   "metadata": {},
   "source": [
    "**1.** (1.5) Пусть $\\xi_n \\overset{d}{\\to} \\xi$ и $\\mu_n \\overset{d}{\\to} \\mu$. Доказать, тчо\n",
    "$ \\xi_n + \\mu_n \\overset{d}{\\to} \\xi + \\mu$\n",
    "\n",
    "**2.** (1.5) Пусть $\\xi_n \\overset{d}{\\to} \\xi$ и $\\mu_n \\overset{d}{\\to} \\mu$. Для любой непрерывной функции f.\n",
    "$f(\\xi_n,\\mu_n) \\overset{d}{\\to} f(\\xi, \\mu)$\n",
    "\n",
    "**3.** (2) Пусть $\\alpha > 0$ и $E|\\xi_n|^\\alpha < \\infty$ при всех n. Доказать, что следующие\n",
    "утверждения эквивалентны:\n",
    "\n",
    "- $\\xi_n \\to \\xi$ по вероятности и $E|\\xi_n|^\\alpha \\to E|\\xi|^\\alpha < \\infty$ при $n \\to \\infty$;\n",
    "- $E|\\xi_n - \\xi|^\\alpha \\to 0$ при $n \\to \\infty$. "
   ]
  },
  {
   "cell_type": "markdown",
   "metadata": {},
   "source": [
    "## Гробы\n",
    "\n",
    "![title](tombs3.png)"
   ]
  }
 ],
 "metadata": {
  "kernelspec": {
   "display_name": "Python 3",
   "language": "python",
   "name": "python3"
  },
  "language_info": {
   "codemirror_mode": {
    "name": "ipython",
    "version": 3
   },
   "file_extension": ".py",
   "mimetype": "text/x-python",
   "name": "python",
   "nbconvert_exporter": "python",
   "pygments_lexer": "ipython3",
   "version": "3.8.5"
  }
 },
 "nbformat": 4,
 "nbformat_minor": 4
}
