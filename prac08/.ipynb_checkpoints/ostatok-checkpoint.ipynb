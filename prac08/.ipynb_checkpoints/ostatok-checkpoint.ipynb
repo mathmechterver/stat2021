{
 "cells": [
  {
   "cell_type": "markdown",
   "metadata": {},
   "source": [
    "# Схема проверки статистических гипотез\n",
    "\n",
    "1. Формулируем нулевую и альтернативную гипотезу\n",
    "2. Выбираем уровень значимости\n",
    "3. Выбираем критерий и статистику критерия\n",
    "4. Строим критическую область при условии справедливости нулевой гипотезы\n",
    "5. Вычисляем выборочное знаение статистики\n",
    "6. Проверяем, принадлежит ли выборочное значение статистики критической области\n",
    "7. Принимаем статистическое решение "
   ]
  }
 ],
 "metadata": {
  "kernelspec": {
   "display_name": "Python 3",
   "language": "python",
   "name": "python3"
  },
  "language_info": {
   "codemirror_mode": {
    "name": "ipython",
    "version": 3
   },
   "file_extension": ".py",
   "mimetype": "text/x-python",
   "name": "python",
   "nbconvert_exporter": "python",
   "pygments_lexer": "ipython3",
   "version": "3.8.5"
  }
 },
 "nbformat": 4,
 "nbformat_minor": 4
}
