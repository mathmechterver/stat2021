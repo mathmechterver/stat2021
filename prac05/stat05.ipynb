{
 "cells": [
  {
   "cell_type": "markdown",
   "metadata": {},
   "source": [
    "# 5. Статистика. Оценки. Эмпирическая функция распределения."
   ]
  },
  {
   "cell_type": "markdown",
   "metadata": {},
   "source": [
    "## Теория\n",
    "* [Выборка](https://nsu.ru/mmf/tvims/chernova/ms/lec/node2.html#SECTION000110)\n",
    "* [Эмпирическая функция распределения](https://nsu.ru/mmf/tvims/chernova/ms/lec/node4.html)\n",
    "* [Моменты](https://nsu.ru/mmf/tvims/chernova/ms/lec/node6.html)"
   ]
  },
  {
   "cell_type": "markdown",
   "metadata": {},
   "source": [
    "Пусть есть некоторое распределение $F(x|\\theta)$ с некоторым параметром $\\theta$ (например $\\lambda$ у Пуассона). \n",
    "\n",
    "Из него мы получили некоторую **выборку** $\\textbf{X}=\\{X_1, \\ldots, X_n\\}$, где $\\forall X_i \\sim F(x|\\theta)$. \n",
    "\n",
    "$\\hat \\theta = \\hat \\theta(\\textbf{X})$ - оценка (статистика) некоторого параметра $\\theta$ (некоторая функция от выборки)\n",
    "\n",
    "### Состоятельная оценка\n",
    "\n",
    "$$\\hat\\theta \\xrightarrow{P} \\theta$$\n",
    "\n",
    "### Несмещенная оценка\n",
    "\n",
    "$$\\mathbb{E}[\\hat\\theta] = \\theta$$\n",
    "\n",
    "\n",
    "### Эмпирическая функция распределения\n",
    "\n",
    "$$\\hat F_{n}(x) = \\frac{\\sum_{i=1}^{n}I(X_i \\leq x)}{n}$$\n",
    "\n",
    "### Параметры оценки\n",
    "\n",
    "$$bias(\\hat\\theta) = \\mathbb{E}[\\hat\\theta] - \\theta$$\n",
    "\n",
    "$$se(\\hat\\theta) = \\sqrt{\\mathbb{D}[\\hat\\theta]}$$\n",
    "\n",
    "$$MSE = bias(\\hat\\theta)^2 + se(\\hat\\theta)^2$$\n"
   ]
  },
  {
   "cell_type": "markdown",
   "metadata": {},
   "source": [
    "## На паре\n",
    "\n",
    "1. Пусть $\\textbf{X} = \\{X_1, X_2, \\dots X_n\\}$ --- независимые одинаково распределенные (н.о.р.) случайные величины  с конечными средним \n",
    "$\\mu = \\mathbb{E}[X_1]$ и \n",
    "дисперсией $\\sigma^2 = \\mathbb{D}(X_1)$. Покажите, что величины\n",
    "$$\n",
    "\\overline{X} = \\frac{1}{n}\\sum_{i=1}^n X_i, \\qquad \\hat S^2_n = \\frac{1}{n - 1} \\sum_{i=1}^n (X_i - \\overline{\\textbf{X}})^2\n",
    "$$\n",
    "являются **несмещенными** и **состоятельными** оценками среднего $\\mu$ и дисперсии $\\sigma^2$, т.е. что\n",
    "* $\\mathbb{E}[\\overline{\\textbf{X}}] = \\mu$ и $\\overline{\\textbf{X}} \\xrightarrow{\\mathbb{P}} \\mu$,\n",
    "* $\\mathbb{E}[\\hat S^2_n] = \\sigma^2$ и $\\hat S^2_n \\xrightarrow{\\mathbb{P}} \\sigma^2$\n",
    "\n",
    "\n",
    "2. Для выборки из распределения F  найти: $\\mathbb{E}[\\hat F_n(x)]$\n",
    "\n",
    "3. Для выборки из $\\textbf{X} = \\{X_1, X_2, \\dots X_n \\} \\sim U(0, \\theta)$ проверить состоятельность и несмещённость оценки $\\hat\\theta = max\\{\\textbf{X}\\}$.\n",
    "\n",
    "4. Пусть $\\textbf{X} = \\{X_1, X_2, \\dots\\} \\sim Poisson(\\ln{\\lambda})~~~\\lambda>0$, введем оценку $\\hat\\lambda = e^{\\overline{\\textbf{X}}}$. Найдите bias, se и MSE этой оценки. Является\n",
    "ли оценка несмещенной оценкой параметра $\\lambda$? Состоятельной?\n"
   ]
  },
  {
   "cell_type": "markdown",
   "metadata": {},
   "source": [
    "# Домашкаё"
   ]
  },
  {
   "cell_type": "markdown",
   "metadata": {},
   "source": [
    "1. (1) Пусть $\\{X_1, X_2, \\dots\\}$ --- независимые одинаково распределенные (н.о.р.) случайные величины  с конечными средним \n",
    "$\\mu$ и дисперсией $\\sigma^2$. Найдите $\\mathbb{D}[\\overline{X}]$\n",
    "\n",
    "\n",
    "2. (1) Для выборки из распределения F  найти:  $\\mathbb{D}[\\hat F_n(x)]$\n",
    "\n",
    "3. (1.5) $\\{X_1, X_2, \\dots\\} \\sim U(a, b)$. Является ли оценка $\\hat\\theta_n = X_{(n)} - X_{(1)}$\n",
    "несмещённой оценкой длины отрезка $\\theta = b - a$? Состоятельной?\n",
    "\n",
    "4. (1.5) $\\{X_1, X_2, \\dots\\}$ — выборка из показательного \n",
    "распределения с параметром $\\frac{1}{\\sqrt{\\alpha}}$. \n",
    "Является ли оценка $\\alpha = (\\overline{X})^2$\n",
    "несмещённой оценкой параметра $\\alpha$? Состоятельной? Найти $bias$, $se$, $MSE$ оценки."
   ]
  },
  {
   "cell_type": "markdown",
   "metadata": {},
   "source": [
    "# Гробы\n",
    "\n",
    "1. (2) Доказать, что выборочное среднее  и выборочная дисперсия  некоррелированы, если третий момент выборки равен\n",
    "нулю. Указание: доказать, что $$Cov(\\overline{X}, \\hat S_n^2) = \\frac{n-1}{n^2}\n",
    "E[X_1^3]$$\n",
    "\n",
    "2. (2) Производится n измерений неизвестного диаметра d круга. \n",
    "В первом приближении считается, что измерения $X_i = d + \\xi_i$\n",
    "производятся с независимыми случайными ошибками $\\xi_i$ , имеющими одинаковое нормальное распределение с нулевым средним\n",
    "и неизвестной дисперсией $\\sigma^2$ .  Найти $bias$, $se$, $MSE$ оценки. \n",
    "Проверить несмещённость и состоятельность следующей оценки площади круга:\n",
    "$$s* = \\frac{\\pi}{4}\\Big((\\overline{X})^2 - \\frac{S_0^2}{n}\\Big)$$\n",
    "$S_0^2 = \\frac{1}{n}\\sum_{i=1}^{n}(X_i - \\overline{X})^2$ - смещенная оценка дисперсии\n",
    "\n",
    "4. (1)Пусть $\\textbf{X} = \\{X_1, X_2, \\dots\\} \\sim Poisson(\\lambda)$. Для какого параметра $\\theta = \\theta(\\lambda)$ оценка $\\hat \\theta \\overline{X}e^{-\\overline{X}}$\n",
    "состоятельной? Является ли $\\hat \\theta$ несмещенной оценкой? Найдите bias, se и MSE этой оценки.\n",
    "\n",
    "1. Для выборки из распределения F  найти: \n",
    "\n",
    "* (1)$\\mathbb{D}[\\hat F_n(x) - \\hat F_n(y)]$ \n"
   ]
  }
 ],
 "metadata": {
  "kernelspec": {
   "display_name": "Python 3",
   "language": "python",
   "name": "python3"
  },
  "language_info": {
   "codemirror_mode": {
    "name": "ipython",
    "version": 3
   },
   "file_extension": ".py",
   "mimetype": "text/x-python",
   "name": "python",
   "nbconvert_exporter": "python",
   "pygments_lexer": "ipython3",
   "version": "3.7.6"
  }
 },
 "nbformat": 4,
 "nbformat_minor": 4
}
